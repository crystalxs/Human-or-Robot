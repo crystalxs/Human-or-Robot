{
 "cells": [
  {
   "cell_type": "markdown",
   "metadata": {},
   "source": [
    "# EDA"
   ]
  },
  {
   "cell_type": "code",
   "execution_count": 1,
   "metadata": {
    "ExecuteTime": {
     "end_time": "2018-12-07T05:43:05.437262Z",
     "start_time": "2018-12-07T05:43:04.306222Z"
    }
   },
   "outputs": [],
   "source": [
    "# for data manipulation\n",
    "import pandas as pd\n",
    "import numpy as np"
   ]
  },
  {
   "cell_type": "markdown",
   "metadata": {},
   "source": [
    "### Load Data"
   ]
  },
  {
   "cell_type": "code",
   "execution_count": 36,
   "metadata": {
    "ExecuteTime": {
     "end_time": "2018-12-06T19:34:44.560882Z",
     "start_time": "2018-12-06T19:34:27.722243Z"
    }
   },
   "outputs": [
    {
     "data": {
      "text/html": [
       "<div>\n",
       "<style scoped>\n",
       "    .dataframe tbody tr th:only-of-type {\n",
       "        vertical-align: middle;\n",
       "    }\n",
       "\n",
       "    .dataframe tbody tr th {\n",
       "        vertical-align: top;\n",
       "    }\n",
       "\n",
       "    .dataframe thead th {\n",
       "        text-align: right;\n",
       "    }\n",
       "</style>\n",
       "<table border=\"1\" class=\"dataframe\">\n",
       "  <thead>\n",
       "    <tr style=\"text-align: right;\">\n",
       "      <th></th>\n",
       "      <th>Unnamed: 0</th>\n",
       "      <th>bidder_id</th>\n",
       "      <th>payment_account</th>\n",
       "      <th>address</th>\n",
       "      <th>outcome</th>\n",
       "      <th>bid_id</th>\n",
       "      <th>auction</th>\n",
       "      <th>merchandise</th>\n",
       "      <th>device</th>\n",
       "      <th>time</th>\n",
       "      <th>country</th>\n",
       "      <th>ip</th>\n",
       "      <th>url</th>\n",
       "    </tr>\n",
       "  </thead>\n",
       "  <tbody>\n",
       "    <tr>\n",
       "      <th>0</th>\n",
       "      <td>0</td>\n",
       "      <td>91a3c57b13234af24875c56fb7e2b2f4rb56a</td>\n",
       "      <td>a3d2de7675556553a5f08e4c88d2c228754av</td>\n",
       "      <td>a3d2de7675556553a5f08e4c88d2c228vt0u4</td>\n",
       "      <td>0.0</td>\n",
       "      <td>85371.0</td>\n",
       "      <td>yitr4</td>\n",
       "      <td>home goods</td>\n",
       "      <td>phone35</td>\n",
       "      <td>9.759489e+15</td>\n",
       "      <td>ke</td>\n",
       "      <td>82.34.177.248</td>\n",
       "      <td>vasstdc27m7nks3</td>\n",
       "    </tr>\n",
       "    <tr>\n",
       "      <th>1</th>\n",
       "      <td>1</td>\n",
       "      <td>91a3c57b13234af24875c56fb7e2b2f4rb56a</td>\n",
       "      <td>a3d2de7675556553a5f08e4c88d2c228754av</td>\n",
       "      <td>a3d2de7675556553a5f08e4c88d2c228vt0u4</td>\n",
       "      <td>0.0</td>\n",
       "      <td>274487.0</td>\n",
       "      <td>btpyy</td>\n",
       "      <td>home goods</td>\n",
       "      <td>phone1004</td>\n",
       "      <td>9.760249e+15</td>\n",
       "      <td>zm</td>\n",
       "      <td>202.130.71.167</td>\n",
       "      <td>vasstdc27m7nks3</td>\n",
       "    </tr>\n",
       "    <tr>\n",
       "      <th>2</th>\n",
       "      <td>2</td>\n",
       "      <td>91a3c57b13234af24875c56fb7e2b2f4rb56a</td>\n",
       "      <td>a3d2de7675556553a5f08e4c88d2c228754av</td>\n",
       "      <td>a3d2de7675556553a5f08e4c88d2c228vt0u4</td>\n",
       "      <td>0.0</td>\n",
       "      <td>527436.0</td>\n",
       "      <td>kj2ko</td>\n",
       "      <td>home goods</td>\n",
       "      <td>phone4</td>\n",
       "      <td>9.762261e+15</td>\n",
       "      <td>ke</td>\n",
       "      <td>22.54.76.225</td>\n",
       "      <td>vasstdc27m7nks3</td>\n",
       "    </tr>\n",
       "    <tr>\n",
       "      <th>3</th>\n",
       "      <td>3</td>\n",
       "      <td>91a3c57b13234af24875c56fb7e2b2f4rb56a</td>\n",
       "      <td>a3d2de7675556553a5f08e4c88d2c228754av</td>\n",
       "      <td>a3d2de7675556553a5f08e4c88d2c228vt0u4</td>\n",
       "      <td>0.0</td>\n",
       "      <td>554135.0</td>\n",
       "      <td>1m5t8</td>\n",
       "      <td>home goods</td>\n",
       "      <td>phone4</td>\n",
       "      <td>9.762431e+15</td>\n",
       "      <td>ke</td>\n",
       "      <td>32.13.237.126</td>\n",
       "      <td>vasstdc27m7nks3</td>\n",
       "    </tr>\n",
       "    <tr>\n",
       "      <th>4</th>\n",
       "      <td>4</td>\n",
       "      <td>91a3c57b13234af24875c56fb7e2b2f4rb56a</td>\n",
       "      <td>a3d2de7675556553a5f08e4c88d2c228754av</td>\n",
       "      <td>a3d2de7675556553a5f08e4c88d2c228vt0u4</td>\n",
       "      <td>0.0</td>\n",
       "      <td>607628.0</td>\n",
       "      <td>btpyy</td>\n",
       "      <td>home goods</td>\n",
       "      <td>phone4</td>\n",
       "      <td>9.762789e+15</td>\n",
       "      <td>ke</td>\n",
       "      <td>202.236.188.240</td>\n",
       "      <td>vasstdc27m7nks3</td>\n",
       "    </tr>\n",
       "  </tbody>\n",
       "</table>\n",
       "</div>"
      ],
      "text/plain": [
       "   Unnamed: 0                              bidder_id  \\\n",
       "0           0  91a3c57b13234af24875c56fb7e2b2f4rb56a   \n",
       "1           1  91a3c57b13234af24875c56fb7e2b2f4rb56a   \n",
       "2           2  91a3c57b13234af24875c56fb7e2b2f4rb56a   \n",
       "3           3  91a3c57b13234af24875c56fb7e2b2f4rb56a   \n",
       "4           4  91a3c57b13234af24875c56fb7e2b2f4rb56a   \n",
       "\n",
       "                         payment_account  \\\n",
       "0  a3d2de7675556553a5f08e4c88d2c228754av   \n",
       "1  a3d2de7675556553a5f08e4c88d2c228754av   \n",
       "2  a3d2de7675556553a5f08e4c88d2c228754av   \n",
       "3  a3d2de7675556553a5f08e4c88d2c228754av   \n",
       "4  a3d2de7675556553a5f08e4c88d2c228754av   \n",
       "\n",
       "                                 address  outcome    bid_id auction  \\\n",
       "0  a3d2de7675556553a5f08e4c88d2c228vt0u4      0.0   85371.0   yitr4   \n",
       "1  a3d2de7675556553a5f08e4c88d2c228vt0u4      0.0  274487.0   btpyy   \n",
       "2  a3d2de7675556553a5f08e4c88d2c228vt0u4      0.0  527436.0   kj2ko   \n",
       "3  a3d2de7675556553a5f08e4c88d2c228vt0u4      0.0  554135.0   1m5t8   \n",
       "4  a3d2de7675556553a5f08e4c88d2c228vt0u4      0.0  607628.0   btpyy   \n",
       "\n",
       "  merchandise     device          time country               ip  \\\n",
       "0  home goods    phone35  9.759489e+15      ke    82.34.177.248   \n",
       "1  home goods  phone1004  9.760249e+15      zm   202.130.71.167   \n",
       "2  home goods     phone4  9.762261e+15      ke     22.54.76.225   \n",
       "3  home goods     phone4  9.762431e+15      ke    32.13.237.126   \n",
       "4  home goods     phone4  9.762789e+15      ke  202.236.188.240   \n",
       "\n",
       "               url  \n",
       "0  vasstdc27m7nks3  \n",
       "1  vasstdc27m7nks3  \n",
       "2  vasstdc27m7nks3  \n",
       "3  vasstdc27m7nks3  \n",
       "4  vasstdc27m7nks3  "
      ]
     },
     "execution_count": 36,
     "metadata": {},
     "output_type": "execute_result"
    }
   ],
   "source": [
    "data = pd.read_feather(cleaned_bid)\n",
    "data.head()"
   ]
  },
  {
   "cell_type": "markdown",
   "metadata": {},
   "source": [
    "## Data Exploration"
   ]
  },
  {
   "cell_type": "code",
   "execution_count": 22,
   "metadata": {},
   "outputs": [
    {
     "name": "stdout",
     "output_type": "stream",
     "text": [
      "total row in bid:          3068523\n",
      "total bids in bid:         3068523\n",
      "total bidder in bids:      1983\n",
      "total payment in bids:     1983\n",
      "total address in bids:     1983\n",
      "total auction in bids:     12740\n",
      "total merchandise in bids: 10\n",
      "total device in bids:      5726\n",
      "total country in bids:     198\n",
      "total ip in bids:          1028810\n",
      "total url in bids:         663265\n"
     ]
    }
   ],
   "source": [
    "# check the unique number of each feature\n",
    "print(f\"total row in bid:          {len(bid)}\")\n",
    "print(f\"total bids in bid:         {len(bid['bid_id'].unique())}\")\n",
    "print(f\"total bidder in bids:      {len(bid['bidder_id'].unique())}\")\n",
    "print(f\"total payment in bids:     {len(bid['payment_account'].unique())}\")\n",
    "print(f\"total address in bids:     {len(bid['address'].unique())}\")\n",
    "print(f\"total auction in bids:     {len(bid['auction'].unique())}\")\n",
    "print(f\"total merchandise in bids: {len(bid['merchandise'].unique())}\")\n",
    "print(f\"total device in bids:      {len(bid['device'].unique())}\")\n",
    "print(f\"total country in bids:     {len(bid['country'].unique())}\")\n",
    "print(f\"total ip in bids:          {len(bid['ip'].unique())}\")\n",
    "print(f\"total url in bids:         {len(bid['url'].unique())}\")"
   ]
  },
  {
   "cell_type": "markdown",
   "metadata": {},
   "source": [
    "From this output, we can see the `payment` and `address` are one-to-one correspondence to `bidder`. Since our `outpue`, whether a bid is made from a human or robot, is label based on `bidder`, we can igonre these two features for future analysis.\n",
    "Since `merchandise` and `country` are compared low in this situation, we can just treat themselves as a feature for analysis."
   ]
  },
  {
   "cell_type": "markdown",
   "metadata": {},
   "source": [
    "For the other features, let's check the ratios to robots and human. Before that, let's check the robots vs. human first."
   ]
  },
  {
   "cell_type": "code",
   "execution_count": 21,
   "metadata": {
    "ExecuteTime": {
     "end_time": "2018-12-07T05:47:11.215608Z",
     "start_time": "2018-12-07T05:47:10.417658Z"
    }
   },
   "outputs": [
    {
     "name": "stdout",
     "output_type": "stream",
     "text": [
      "total bids made by robots in data set: 412153\n",
      "total bids made by human in data set:  2656370\n",
      "the ratio of made by robot vs. bids made by human in data set: 3:20\n"
     ]
    }
   ],
   "source": [
    "print(\n",
    "    f\"total bids made by robots in data set: {len(bid[bid['outcome'] == 1])}\")\n",
    "print(\n",
    "    f\"total bids made by human in data set:  {len(bid[bid['outcome'] == 0])}\")\n",
    "print(\"the ratio of made by robot vs. bids made by human in data set: 3:20\")"
   ]
  },
  {
   "cell_type": "markdown",
   "metadata": {},
   "source": [
    "These trainning data set has unbalanced number of robots and human:\n",
    "* we might need to do resampling before training the model.\n",
    "* for the evaluation metrices, we will foucus on AUC and precision vs. recall."
   ]
  },
  {
   "cell_type": "markdown",
   "metadata": {},
   "source": [
    "Then checking the features' ratio of robots and human:"
   ]
  },
  {
   "cell_type": "code",
   "execution_count": 29,
   "metadata": {},
   "outputs": [
    {
     "name": "stdout",
     "output_type": "stream",
     "text": [
      "average bids per robot: 4001\n",
      "average bids per human:  1413\n",
      "average bids per auction by robot: 64\n",
      "average bids per auction by human:  217\n",
      "average bids per device by robot: 134\n",
      "average bids per device by human:  516\n",
      "average bids per ip by robots: 1.79\n",
      "average bids per ip by human:  3.19\n",
      "average bids per url by robot: 7.52\n",
      "average bids per url by human:  4.36\n"
     ]
    }
   ],
   "source": [
    "print(f\"average bids per robot: %.0f\" % float(len(\n",
    "    bid[bid['outcome'] == 1])/len(bid[bid['outcome'] == 1]['bidder_id'].unique())))\n",
    "print(f\"average bids per human:  %.0f\" % float(len(\n",
    "    bid[bid['outcome'] == 0])/len(bid[bid['outcome'] == 0]['bidder_id'].unique())))\n",
    "print(f\"average bids per auction by robot: %.0f\" % float(\n",
    "    len(bid[bid['outcome'] == 1])/len(bid[bid['outcome'] == 1]['auction'].unique())))\n",
    "print(f\"average bids per auction by human:  %.0f\" % float(\n",
    "    len(bid[bid['outcome'] == 0])/len(bid[bid['outcome'] == 0]['auction'].unique())))\n",
    "print(f\"average bids per device by robot: %.0f\" % float(\n",
    "    len(bid[bid['outcome'] == 1])/len(bid[bid['outcome'] == 1]['device'].unique())))\n",
    "print(f\"average bids per device by human:  %.0f\" % float(\n",
    "    len(bid[bid['outcome'] == 0])/len(bid[bid['outcome'] == 0]['device'].unique())))\n",
    "print(f\"average bids per ip by robots: %.2f\" % float(\n",
    "    len(bid[bid['outcome'] == 1])/len(bid[bid['outcome'] == 1]['ip'].unique())))\n",
    "print(f\"average bids per ip by human:  %.2f\" % float(\n",
    "    len(bid[bid['outcome'] == 0])/len(bid[bid['outcome'] == 0]['ip'].unique())))\n",
    "print(f\"average bids per url by robot: %.2f\" % float(\n",
    "    len(bid[bid['outcome'] == 1])/len(bid[bid['outcome'] == 1]['url'].unique())))\n",
    "print(f\"average bids per url by human:  %.2f\" % float(\n",
    "    len(bid[bid['outcome'] == 0])/len(bid[bid['outcome'] == 0]['url'].unique())))"
   ]
  },
  {
   "cell_type": "markdown",
   "metadata": {},
   "source": [
    "From the above, we can see distinct difference between bids made by human and bots per auction, per device. Features related to number of bids, auction, device draw our attention."
   ]
  }
 ],
 "metadata": {
  "kernelspec": {
   "display_name": "Python 2",
   "language": "python",
   "name": "python2"
  },
  "language_info": {
   "codemirror_mode": {
    "name": "ipython",
    "version": 2
   },
   "file_extension": ".py",
   "mimetype": "text/x-python",
   "name": "python",
   "nbconvert_exporter": "python",
   "pygments_lexer": "ipython2",
   "version": "2.7.15"
  }
 },
 "nbformat": 4,
 "nbformat_minor": 2
}
