{
 "cells": [
  {
   "cell_type": "markdown",
   "metadata": {},
   "source": [
    "# Model Comparison"
   ]
  },
  {
   "cell_type": "code",
   "execution_count": 1,
   "metadata": {
    "ExecuteTime": {
     "end_time": "2018-12-07T05:43:05.437262Z",
     "start_time": "2018-12-07T05:43:04.306222Z"
    }
   },
   "outputs": [],
   "source": [
    "# for data manipulation\n",
    "import pandas as pd\n",
    "import numpy as np"
   ]
  },
  {
   "cell_type": "code",
   "execution_count": 58,
   "metadata": {
    "ExecuteTime": {
     "end_time": "2018-12-07T06:23:58.943071Z",
     "start_time": "2018-12-07T06:23:58.938620Z"
    }
   },
   "outputs": [],
   "source": [
    "# data visualization package\n",
    "import matplotlib.pyplot as plt\n",
    "from beautifultable import BeautifulTable"
   ]
  },
  {
   "cell_type": "code",
   "execution_count": 4,
   "metadata": {
    "ExecuteTime": {
     "end_time": "2018-12-07T05:43:07.474008Z",
     "start_time": "2018-12-07T05:43:06.976216Z"
    }
   },
   "outputs": [],
   "source": [
    "# for model comparision\n",
    "from sklearn import metrics"
   ]
  },
  {
   "cell_type": "markdown",
   "metadata": {},
   "source": [
    "### Load Data"
   ]
  },
  {
   "cell_type": "code",
   "execution_count": null,
   "metadata": {},
   "outputs": [],
   "source": [
    "dt_time = pd.read_feather(dt_time)\n",
    "y_dt_pred = pd.read_feather(y_dt_pred)"
   ]
  },
  {
   "cell_type": "code",
   "execution_count": null,
   "metadata": {},
   "outputs": [],
   "source": [
    "rf_time = pd.read_feather(rf_time)\n",
    "y_rf_pred = pd.read_feather(y_rf_pred)"
   ]
  },
  {
   "cell_type": "code",
   "execution_count": null,
   "metadata": {},
   "outputs": [],
   "source": [
    "gb_time = pd.read_feather(gb_time)\n",
    "y_gb_pred = pd.read_feather(y_gb_pred)"
   ]
  },
  {
   "cell_type": "markdown",
   "metadata": {},
   "source": [
    "## Comparison"
   ]
  },
  {
   "cell_type": "code",
   "execution_count": 32,
   "metadata": {
    "ExecuteTime": {
     "end_time": "2018-12-07T05:50:02.141177Z",
     "start_time": "2018-12-07T05:49:58.727789Z"
    }
   },
   "outputs": [],
   "source": [
    "dt_metrics = [metrics.accuracy_score(y_test, y_dt_pred), metrics.precision_score(y_test, y_dt_pred),\n",
    "              metrics.recall_score(y_test, y_dt_pred), metrics.f1_score(\n",
    "                  y_test, y_dt_pred),\n",
    "              metrics.roc_auc_score(y_test, y_dt_pred), dt_time]\n",
    "rf_metrics = [metrics.accuracy_score(y_test, y_rf_pred), metrics.precision_score(y_test, y_rf_pred),\n",
    "              metrics.recall_score(y_test, y_rf_pred), metrics.f1_score(\n",
    "                  y_test, y_rf_pred),\n",
    "              metrics.roc_auc_score(y_test, y_rf_pred), rf_time]\n",
    "gb_metrics = [metrics.accuracy_score(y_test, y_gb_pred), metrics.precision_score(y_test, y_gb_pred),\n",
    "              metrics.recall_score(y_test, y_gb_pred), metrics.f1_score(\n",
    "                  y_test, y_gb_pred),\n",
    "              metrics.roc_auc_score(y_test, y_gb_pred), gb_time]"
   ]
  },
  {
   "cell_type": "code",
   "execution_count": 33,
   "metadata": {
    "ExecuteTime": {
     "end_time": "2018-12-07T05:50:02.621334Z",
     "start_time": "2018-12-07T05:50:02.145332Z"
    }
   },
   "outputs": [
    {
     "data": {
      "image/png": "[encoded data removed]",
      "text/plain": [
       "<Figure size 720x576 with 1 Axes>"
      ]
     },
     "metadata": {},
     "output_type": "display_data"
    }
   ],
   "source": [
    "fig, ax = plt.subplots(figsize=(10, 8))\n",
    "index = np.arange(5)\n",
    "width = 0.2\n",
    "b1 = plt.bar(index, dt_metrics[0:5], width,\n",
    "             alpha=0.4, color='grey', label='decision tree')\n",
    "b2 = plt.bar(index+width, rf_metrics[0:5], width,\n",
    "             alpha=0.8, color='powderblue', label='random forest')\n",
    "b3 = plt.bar(index+2*width, gb_metrics[0:5], width,\n",
    "             alpha=0.8, color='pink', label='gradient boosting')\n",
    "plt.title('Model Comparison')\n",
    "plt.ylabel('score')\n",
    "plt.xticks(index+width, ('accuracy', 'precision', 'recall', 'F1', 'ROC AUC'))\n",
    "plt.legend(loc=8, ncol=3, mode=\"expand\", borderaxespad=0.)\n",
    "plt.show()\n",
    "fig.savefig('model_comparison.png')"
   ]
  },
  {
   "cell_type": "code",
   "execution_count": 34,
   "metadata": {
    "ExecuteTime": {
     "end_time": "2018-12-07T05:50:02.671666Z",
     "start_time": "2018-12-07T05:50:02.625457Z"
    }
   },
   "outputs": [
    {
     "data": {
      "text/html": [
       "<div>\n",
       "<style scoped>\n",
       "    .dataframe tbody tr th:only-of-type {\n",
       "        vertical-align: middle;\n",
       "    }\n",
       "\n",
       "    .dataframe tbody tr th {\n",
       "        vertical-align: top;\n",
       "    }\n",
       "\n",
       "    .dataframe thead th {\n",
       "        text-align: right;\n",
       "    }\n",
       "</style>\n",
       "<table border=\"1\" class=\"dataframe\">\n",
       "  <thead>\n",
       "    <tr style=\"text-align: right;\">\n",
       "      <th></th>\n",
       "      <th>Decision Tree</th>\n",
       "      <th>Random Forest</th>\n",
       "      <th>Gradient Boosting</th>\n",
       "    </tr>\n",
       "  </thead>\n",
       "  <tbody>\n",
       "    <tr>\n",
       "      <th>Accuracy_score</th>\n",
       "      <td>0.834</td>\n",
       "      <td>0.922</td>\n",
       "      <td>0.981</td>\n",
       "    </tr>\n",
       "    <tr>\n",
       "      <th>Precision_score</th>\n",
       "      <td>0.443</td>\n",
       "      <td>0.657</td>\n",
       "      <td>0.887</td>\n",
       "    </tr>\n",
       "    <tr>\n",
       "      <th>Recall_Score</th>\n",
       "      <td>0.928</td>\n",
       "      <td>0.877</td>\n",
       "      <td>0.983</td>\n",
       "    </tr>\n",
       "    <tr>\n",
       "      <th>F1_score</th>\n",
       "      <td>0.599</td>\n",
       "      <td>0.752</td>\n",
       "      <td>0.932</td>\n",
       "    </tr>\n",
       "    <tr>\n",
       "      <th>ROC_AUC_score</th>\n",
       "      <td>0.873</td>\n",
       "      <td>0.903</td>\n",
       "      <td>0.982</td>\n",
       "    </tr>\n",
       "    <tr>\n",
       "      <th>Time(s)</th>\n",
       "      <td>1.228</td>\n",
       "      <td>75.841</td>\n",
       "      <td>75.273</td>\n",
       "    </tr>\n",
       "  </tbody>\n",
       "</table>\n",
       "</div>"
      ],
      "text/plain": [
       "                 Decision Tree  Random Forest  Gradient Boosting\n",
       "Accuracy_score           0.834          0.922              0.981\n",
       "Precision_score          0.443          0.657              0.887\n",
       "Recall_Score             0.928          0.877              0.983\n",
       "F1_score                 0.599          0.752              0.932\n",
       "ROC_AUC_score            0.873          0.903              0.982\n",
       "Time(s)                  1.228         75.841             75.273"
      ]
     },
     "execution_count": 34,
     "metadata": {},
     "output_type": "execute_result"
    }
   ],
   "source": [
    "label = [\"Accuracy_score\", \"Precision_score\",\n",
    "         \"Recall_Score\", \"F1_score\", \"ROC_AUC_score\", \"Time(s)\"]\n",
    "table = pd.DataFrame({'Decision Tree': dt_metrics,\n",
    "                      'Random Forest': rf_metrics, 'Gradient Boosting': gb_metrics})\n",
    "table = table.transpose()\n",
    "table.columns = label\n",
    "table.transpose().round(3)"
   ]
  },
  {
   "cell_type": "markdown",
   "metadata": {},
   "source": [
    "As we can see even though the fitting time of decision time is pretty fast, however, the preformance of it is not acceptable. The Gradient boosting model has the best performance and not cost as much time as random forest model. Thus we choose gradient boosting model as our final model."
   ]
  },
  {
   "cell_type": "markdown",
   "metadata": {},
   "source": [
    "## Conclusion"
   ]
  },
  {
   "cell_type": "markdown",
   "metadata": {},
   "source": [
    "From the feature importance, we can see that in the online bidding, human being are more likely come from a random url into a certain aution, however, the robots are more likely come from few specific url. And compared with human beings robots are more likely to use different ip addresses for online bidding. Thus if for a user, it using multi-ip addresses and come from few certain url, we might consider it is a robots."
   ]
  }
 ],
 "metadata": {
  "kernelspec": {
   "display_name": "Python 2",
   "language": "python",
   "name": "python2"
  },
  "language_info": {
   "codemirror_mode": {
    "name": "ipython",
    "version": 2
   },
   "file_extension": ".py",
   "mimetype": "text/x-python",
   "name": "python",
   "nbconvert_exporter": "python",
   "pygments_lexer": "ipython2",
   "version": "2.7.15"
  }
 },
 "nbformat": 4,
 "nbformat_minor": 2
}
