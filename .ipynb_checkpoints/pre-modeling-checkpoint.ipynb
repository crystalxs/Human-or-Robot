{
 "cells": [
  {
   "cell_type": "markdown",
   "metadata": {},
   "source": [
    "# Pre-Modeling"
   ]
  },
  {
   "cell_type": "code",
   "execution_count": 1,
   "metadata": {
    "ExecuteTime": {
     "end_time": "2018-12-07T05:43:05.437262Z",
     "start_time": "2018-12-07T05:43:04.306222Z"
    }
   },
   "outputs": [],
   "source": [
    "# for data manipulation\n",
    "import pandas as pd"
   ]
  },
  {
   "cell_type": "code",
   "execution_count": 4,
   "metadata": {
    "ExecuteTime": {
     "end_time": "2018-12-07T05:43:07.474008Z",
     "start_time": "2018-12-07T05:43:06.976216Z"
    }
   },
   "outputs": [],
   "source": [
    "# for train and test data set split\n",
    "from sklearn.model_selection import train_test_split"
   ]
  },
  {
   "cell_type": "markdown",
   "metadata": {},
   "source": [
    "### Load Data"
   ]
  },
  {
   "cell_type": "code",
   "execution_count": 52,
   "metadata": {
    "ExecuteTime": {
     "end_time": "2018-12-07T06:04:17.410467Z",
     "start_time": "2018-12-07T06:04:09.938829Z"
    }
   },
   "outputs": [],
   "source": [
    "bid = pd.read_csv(\"featured.csv\")\n",
    "bid = bid.iloc[:, 1:8]"
   ]
  },
  {
   "cell_type": "markdown",
   "metadata": {},
   "source": [
    "## Process Imbalanced Data"
   ]
  },
  {
   "cell_type": "markdown",
   "metadata": {},
   "source": [
    "### Split Train and Test set"
   ]
  },
  {
   "cell_type": "code",
   "execution_count": 10,
   "metadata": {
    "ExecuteTime": {
     "end_time": "2018-12-07T05:43:54.553188Z",
     "start_time": "2018-12-07T05:43:53.662046Z"
    }
   },
   "outputs": [],
   "source": [
    "bid_train, bid_test = train_test_split(bid, test_size=0.2)"
   ]
  },
  {
   "cell_type": "markdown",
   "metadata": {},
   "source": [
    "### Under sampling"
   ]
  },
  {
   "cell_type": "markdown",
   "metadata": {},
   "source": [
    "From data preprocessing part, we see the ratio of the robot bidder and the human bidder is 3:20, thus we need to undersampling the human bidder samples in the trainset to keep the data balance."
   ]
  },
  {
   "cell_type": "code",
   "execution_count": 11,
   "metadata": {
    "ExecuteTime": {
     "end_time": "2018-12-07T05:43:55.933279Z",
     "start_time": "2018-12-07T05:43:54.978795Z"
    }
   },
   "outputs": [],
   "source": [
    "bots_train = bid_train.loc[bid_train.outcome == 1]\n",
    "human_train = bid_train.loc[bid_train.outcome == 0]\n",
    "human_sample = human_train.sample(n=len(bots_train))\n",
    "bid_train_balance = pd.concat([bots_train, human_sample])\n",
    "\n",
    "y_train = bid_train_balance['outcome']\n",
    "X_train = bid_train_balance.iloc[:, -5:]\n",
    "y_test = bid_test['outcome']\n",
    "X_test = bid_test.iloc[:, -5:]"
   ]
  },
  {
   "cell_type": "code",
   "execution_count": null,
   "metadata": {},
   "outputs": [],
   "source": [
    "y_train.to_feature(y_train)\n",
    "X_train.to_feature(X_train)\n",
    "y_test.to_feature(y_test)\n",
    "X_test.to_feature(X_test)"
   ]
  },
  {
   "cell_type": "markdown",
   "metadata": {},
   "source": [
    "## Base Model"
   ]
  },
  {
   "cell_type": "markdown",
   "metadata": {},
   "source": [
    "Assume base model is label all data as human:"
   ]
  },
  {
   "cell_type": "code",
   "execution_count": 15,
   "metadata": {
    "ExecuteTime": {
     "end_time": "2018-12-05T23:58:50.805634Z",
     "start_time": "2018-12-05T23:58:46.547843Z"
    }
   },
   "outputs": [
    {
     "name": "stdout",
     "output_type": "stream",
     "text": [
      "base model accuracy: 0.8657\n"
     ]
    }
   ],
   "source": [
    "# base model accuracy\n",
    "print(\n",
    "    f\"base model accuracy: {len(bid[bid['outcome'] == 0])/(len(bid[bid['outcome'] == 0])+len(bid[bid['outcome'] == 1])):.4f}\")"
   ]
  }
 ],
 "metadata": {
  "kernelspec": {
   "display_name": "Python 2",
   "language": "python",
   "name": "python2"
  },
  "language_info": {
   "codemirror_mode": {
    "name": "ipython",
    "version": 2
   },
   "file_extension": ".py",
   "mimetype": "text/x-python",
   "name": "python",
   "nbconvert_exporter": "python",
   "pygments_lexer": "ipython2",
   "version": "2.7.15"
  }
 },
 "nbformat": 4,
 "nbformat_minor": 2
}
